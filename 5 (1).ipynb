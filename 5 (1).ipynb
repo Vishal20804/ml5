{
 "cells": [
  {
   "cell_type": "code",
   "execution_count": null,
   "id": "8cb1cf15-780b-4913-bfad-77b811ba93f2",
   "metadata": {},
   "outputs": [],
   "source": [
    "Ans:1\n",
    "Data encoding is the process of converting data from one format or representation to another, typically for the purpose of efficient storage, transmission, or processing. In the context of data science, encoding is a crucial step in preparing and handling data to make it suitable for analysis and machine learning models"
   ]
  },
  {
   "cell_type": "code",
   "execution_count": null,
   "id": "1a38f8c3-ca25-41b7-ae2a-626ae145370e",
   "metadata": {},
   "outputs": [],
   "source": [
    "Ans:2\n",
    "Nominal encoding, also known as label encoding or integer encoding, is a data encoding technique used to convert categorical variables with no inherent order or ranking into numerical values. In nominal encoding, each unique category is assigned a unique integer value. The actual numerical values do not have any inherent meaning or order; they are simply used to represent the different categories in a consistent manner.\n"
   ]
  },
  {
   "cell_type": "code",
   "execution_count": null,
   "id": "d3c6c6c4-f40b-40e8-af3d-620cc2131f92",
   "metadata": {},
   "outputs": [],
   "source": [
    "Ans:3\n",
    "\n",
    "Nominal encoding is preferred over one-hot encoding in situations where the categorical variable has a large number of unique categories, and using one-hot encoding would result in a significant increase in dimensionality. One-hot encoding creates a binary column for each category, which can lead to a sparse matrix representation and increased computational complexity, especially when dealing with large datasets.\n",
    "\n"
   ]
  },
  {
   "cell_type": "code",
   "execution_count": null,
   "id": "8faf7362-275d-423a-bb85-71d36b88fee5",
   "metadata": {},
   "outputs": [],
   "source": [
    "Ans:4\n",
    "If the categorical data contains 5 unique values, the most suitable encoding technique would be nominal encoding (also known as label encoding or integer encoding). Here's why nominal encoding is the preferred choice in this scenario\n",
    "\n",
    "Low Number of Unique Values: \n",
    "Dimensionality and Memory Efficiency\n",
    "Orderless Representation"
   ]
  },
  {
   "cell_type": "code",
   "execution_count": null,
   "id": "fe5506df-4c2d-4be7-ae48-feb5489058bd",
   "metadata": {},
   "outputs": [],
   "source": [
    "Ans:5\n",
    "When using nominal encoding to transform categorical data, you create a new column for each unique category in each categorical column. Since you have two categorical columns in the dataset, let's assume they have the following number of unique categories:\n",
    "Categorical Column 1: n1 unique categories\n",
    "Categorical Column 2: n2 unique categories"
   ]
  }
 ],
 "metadata": {
  "kernelspec": {
   "display_name": "Python 3 (ipykernel)",
   "language": "python",
   "name": "python3"
  },
  "language_info": {
   "codemirror_mode": {
    "name": "ipython",
    "version": 3
   },
   "file_extension": ".py",
   "mimetype": "text/x-python",
   "name": "python",
   "nbconvert_exporter": "python",
   "pygments_lexer": "ipython3",
   "version": "3.10.8"
  }
 },
 "nbformat": 4,
 "nbformat_minor": 5
}
